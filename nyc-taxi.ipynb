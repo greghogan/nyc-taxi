{
 "cells": [
  {
   "cell_type": "markdown",
   "source": [
    "Evaluation of the [Trip Record Data](https://www.nyc.gov/site/tlc/about/tlc-trip-record-data.page) from the New York City [Taxi and Limousine Commission](https://www.nyc.gov/site/tlc/about/about-tlc.page).\n",
    "\n",
    "A primary concern is to minimize memory usage, which is to maximize the quantity of loadable data.\n",
    "\n",
    "The three kinds of analyses performed are:\n",
    "1. Tabular analysis of the full dataset.\n",
    "1. Tabular analysis per day.\n",
    "1. Graph analysis of zone-to-zone travel."
   ],
   "metadata": {
    "collapsed": false
   }
  },
  {
   "cell_type": "markdown",
   "source": [
    "Open [this notebook](https://colab.research.google.com/github/greghogan/nyc-taxi/blob/main/nyc-taxi.ipynb) in [Google Colab](https://colab.research.google.com/).\n",
    "\n",
    "Note: careful with the CPU credits if you are a freeloading customer."
   ],
   "metadata": {
    "collapsed": false
   }
  },
  {
   "cell_type": "markdown",
   "source": [
    "To do:\n",
    "\n",
    "1. Merge names with tabular and graph results.\n",
    "1. Count trips by day.\n",
    "1. Evaluation of green taxi and for-hire vehicle trips."
   ],
   "metadata": {
    "collapsed": false
   }
  },
  {
   "cell_type": "markdown",
   "source": [
    "### Install modules"
   ],
   "metadata": {
    "collapsed": false
   }
  },
  {
   "cell_type": "code",
   "execution_count": 1,
   "outputs": [],
   "source": [
    "!pip install --quiet --disable-pip-version-check \\\n",
    "    matplotlib \\\n",
    "    networkx \\\n",
    "    pandas \\\n",
    "    pyarrow \\\n",
    "    psutil \\\n",
    "    pyshp \\\n",
    "    scipy"
   ],
   "metadata": {
    "collapsed": false,
    "ExecuteTime": {
     "start_time": "2023-04-14T13:49:31.519484Z",
     "end_time": "2023-04-14T13:49:34.167473Z"
    }
   }
  },
  {
   "cell_type": "markdown",
   "source": [
    "### Fetch trip data.\n",
    "\n",
    "Use of the `--timestamping` option of `wget` prevents re-downloading of data."
   ],
   "metadata": {
    "collapsed": false
   }
  },
  {
   "cell_type": "code",
   "execution_count": 2,
   "outputs": [
    {
     "name": "stdout",
     "output_type": "stream",
     "text": [
      "Archive:  taxi_zones.zip\r\n"
     ]
    }
   ],
   "source": [
    "years = [2022]\n",
    "months = range(12) # zero-indexed\n",
    "\n",
    "site = 'https://d37ci6vzurychx.cloudfront.net'\n",
    "\n",
    "# Taxi Zone Lookup Table (CSV)\n",
    "!wget --quiet --timestamping $f'{site}/misc/taxi+_zone_lookup.csv'\n",
    "\n",
    "# Taxi Zone Shapefile (PARQUET)\n",
    "!wget --quiet --timestamping $f'{site}/misc/taxi_zones.zip'\n",
    "!unzip -n 'taxi_zones.zip'\n",
    "\n",
    "for year in years:\n",
    "    for month in months:\n",
    "        # Yellow Taxi Trip Records (PARQUET)\n",
    "        # ~50 MB/month\n",
    "        yellow_tripdata = f'{site}/trip-data/yellow_tripdata_{year}-{month+1:02d}.parquet'\n",
    "        !wget --quiet --timestamping $yellow_tripdata\n",
    "\n",
    "        # Green Taxi Trip Records (PARQUET)\n",
    "        # ~1 MB/month\n",
    "        green_tripdata = f'{site}/trip-data/green_tripdata_{year}-{month+1:02d}.parquet'\n",
    "        !wget --quiet --timestamping $green_tripdata\n",
    "\n",
    "        # For-Hire Vehicle Trip Records (PARQUET)\n",
    "        # ~10 MB/month\n",
    "        fhv_tripdata = f'{site}/trip-data/fhv_tripdata_{year}-{month+1:02d}.parquet'\n",
    "        !wget --quiet --timestamping $fhv_tripdata\n",
    "\n",
    "        # High Volume For-Hire Vehicle Trip Records (PARQUET)\n",
    "        # ~500 MB/month\n",
    "        fhvhv_tripdata = f'{site}/trip-data/fhvhv_tripdata_{year}-{month+1:02d}.parquet'\n",
    "        #!wget --quiet --timestamping $fhvhv_tripdata"
   ],
   "metadata": {
    "collapsed": false,
    "ExecuteTime": {
     "start_time": "2023-04-14T13:51:59.255156Z",
     "end_time": "2023-04-14T13:52:20.244109Z"
    }
   }
  },
  {
   "cell_type": "markdown",
   "source": [
    "### Analyze memory usage and Python garbage collection"
   ],
   "metadata": {
    "collapsed": false
   }
  },
  {
   "cell_type": "code",
   "execution_count": 5,
   "outputs": [],
   "source": [
    "import gc\n",
    "import psutil\n",
    "import time\n",
    "\n",
    "# RSS is the Resident Set Size, the amount of memory allocated to a process and in RAM. It does not include memory swapped to disk.\n",
    "\n",
    "garbage_collection_timeout_seconds = 3\n",
    "\n",
    "class MemoryUsage():\n",
    "    # Process memory (RAM) use is measured at three points: before and after the enclosed with statement\n",
    "    # and finally after performing a garbage collection. Ideally we want to minimize peak memory but we\n",
    "    # also look to free as much memory as quickly as possible.\n",
    "\n",
    "    @staticmethod\n",
    "    def _collect():\n",
    "        # there are additional flags that could be used https://docs.python.org/3/library/gc.html\n",
    "        gc.set_debug(gc.DEBUG_STATS)\n",
    "        gc.collect()\n",
    "        # it seems appropriate to unset the debug flags although this may have no affect in a notebook\n",
    "        gc.set_debug(0)\n",
    "        # garbage collection seems to be asynchronous; it is possible to register a callback but\n",
    "        # instead simply wait for system to hopefully finish and settle\n",
    "        time.sleep(garbage_collection_timeout_seconds)\n",
    "\n",
    "    def __enter__(self):\n",
    "        print('Entry garbage collection:')\n",
    "        self._collect()\n",
    "        self.enter_rss = psutil.Process().memory_info().rss\n",
    "\n",
    "    def __exit__(self, exc_type, exc_val, exc_tb):\n",
    "        print('Exit garbage collection:')\n",
    "        self.exit_rss = psutil.Process().memory_info().rss\n",
    "        self._collect()\n",
    "        self.post_gc_rss = psutil.Process().memory_info().rss\n",
    "\n",
    "        increase = self.exit_rss - self.enter_rss\n",
    "        collected = self.post_gc_rss - self.exit_rss\n",
    "        print(f'RAM used on entry: {self.enter_rss:,} bytes')\n",
    "        print(f'RAM used on exit: {self.exit_rss:,} bytes')\n",
    "        print(f'RAM used after garbage collect: {self.post_gc_rss:,} bytes')\n",
    "        print(f'RAM increased by {increase:,} bytes and garbage collect recovered {collected:,} bytes')"
   ],
   "metadata": {
    "collapsed": false,
    "ExecuteTime": {
     "start_time": "2023-04-14T14:32:22.560024Z",
     "end_time": "2023-04-14T14:32:22.566908Z"
    }
   }
  },
  {
   "cell_type": "code",
   "execution_count": 2,
   "outputs": [],
   "source": [
    "import pandas as pd"
   ],
   "metadata": {
    "collapsed": false,
    "ExecuteTime": {
     "start_time": "2023-04-14T14:32:05.089363Z",
     "end_time": "2023-04-14T14:32:06.126130Z"
    }
   }
  },
  {
   "cell_type": "markdown",
   "source": [
    "### Memory usage for one month of yellow trip data"
   ],
   "metadata": {
    "collapsed": false
   }
  },
  {
   "cell_type": "code",
   "execution_count": 5,
   "outputs": [
    {
     "name": "stdout",
     "output_type": "stream",
     "text": [
      "Entry garbage collection:\n"
     ]
    },
    {
     "name": "stderr",
     "output_type": "stream",
     "text": [
      "gc: collecting generation 2...\n",
      "gc: objects in each generation: 634 1652 119464\n",
      "gc: objects in permanent generation: 0\n",
      "gc: done, 0 unreachable, 0 uncollectable, 0.0354s elapsed\n"
     ]
    },
    {
     "name": "stdout",
     "output_type": "stream",
     "text": [
      "<class 'pandas.core.frame.DataFrame'>\n",
      "RangeIndex: 2463931 entries, 0 to 2463930\n",
      "Data columns (total 19 columns):\n",
      " #   Column                 Dtype         \n",
      "---  ------                 -----         \n",
      " 0   VendorID               int64         \n",
      " 1   tpep_pickup_datetime   datetime64[ns]\n",
      " 2   tpep_dropoff_datetime  datetime64[ns]\n",
      " 3   passenger_count        float64       \n",
      " 4   trip_distance          float64       \n",
      " 5   RatecodeID             float64       \n",
      " 6   store_and_fwd_flag     object        \n",
      " 7   PULocationID           int64         \n",
      " 8   DOLocationID           int64         \n",
      " 9   payment_type           int64         \n",
      " 10  fare_amount            float64       \n",
      " 11  extra                  float64       \n",
      " 12  mta_tax                float64       \n",
      " 13  tip_amount             float64       \n",
      " 14  tolls_amount           float64       \n",
      " 15  improvement_surcharge  float64       \n",
      " 16  total_amount           float64       \n",
      " 17  congestion_surcharge   float64       \n",
      " 18  airport_fee            float64       \n",
      "dtypes: datetime64[ns](2), float64(12), int64(4), object(1)\n",
      "memory usage: 357.2+ MB\n",
      "Exit garbage collection:\n"
     ]
    },
    {
     "name": "stderr",
     "output_type": "stream",
     "text": [
      "gc: collecting generation 2...\n",
      "gc: objects in each generation: 152 2166 121063\n",
      "gc: objects in permanent generation: 0\n",
      "gc: done, 0 unreachable, 0 uncollectable, 0.0457s elapsed\n"
     ]
    },
    {
     "name": "stdout",
     "output_type": "stream",
     "text": [
      "RAM used on entry: 119,504,896 bytes\n",
      "RAM used on exit: 666,689,536 bytes\n",
      "RAM used after garbage collect: 666,689,536 bytes\n",
      "RAM increased by 547,184,640 bytes and garbage collect recovered 0 bytes\n"
     ]
    }
   ],
   "source": [
    "with MemoryUsage():\n",
    "    data = pd.concat(pd.read_parquet(f'yellow_tripdata_2022-{month+1:02d}.parquet') for month in range(1))\n",
    "    data.info()"
   ],
   "metadata": {
    "collapsed": false,
    "ExecuteTime": {
     "start_time": "2023-04-14T13:52:31.876746Z",
     "end_time": "2023-04-14T13:52:38.910553Z"
    }
   }
  },
  {
   "cell_type": "markdown",
   "source": [
    "### Memory usage for twelve months of yellow trip data"
   ],
   "metadata": {
    "collapsed": false
   }
  },
  {
   "cell_type": "code",
   "execution_count": 8,
   "outputs": [
    {
     "name": "stdout",
     "output_type": "stream",
     "text": [
      "Entry garbage collection:\n"
     ]
    },
    {
     "name": "stderr",
     "output_type": "stream",
     "text": [
      "gc: collecting generation 2...\n",
      "gc: objects in each generation: 275 106 123088\n",
      "gc: objects in permanent generation: 0\n",
      "gc: done, 0 unreachable, 0 uncollectable, 0.0308s elapsed\n"
     ]
    },
    {
     "name": "stdout",
     "output_type": "stream",
     "text": [
      "<class 'pandas.core.frame.DataFrame'>\n",
      "Index: 39656098 entries, 0 to 3399548\n",
      "Data columns (total 19 columns):\n",
      " #   Column                 Dtype         \n",
      "---  ------                 -----         \n",
      " 0   VendorID               int64         \n",
      " 1   tpep_pickup_datetime   datetime64[ns]\n",
      " 2   tpep_dropoff_datetime  datetime64[ns]\n",
      " 3   passenger_count        float64       \n",
      " 4   trip_distance          float64       \n",
      " 5   RatecodeID             float64       \n",
      " 6   store_and_fwd_flag     object        \n",
      " 7   PULocationID           int64         \n",
      " 8   DOLocationID           int64         \n",
      " 9   payment_type           int64         \n",
      " 10  fare_amount            float64       \n",
      " 11  extra                  float64       \n",
      " 12  mta_tax                float64       \n",
      " 13  tip_amount             float64       \n",
      " 14  tolls_amount           float64       \n",
      " 15  improvement_surcharge  float64       \n",
      " 16  total_amount           float64       \n",
      " 17  congestion_surcharge   float64       \n",
      " 18  airport_fee            float64       \n",
      "dtypes: datetime64[ns](2), float64(12), int64(4), object(1)\n",
      "memory usage: 5.9+ GB\n",
      "Exit garbage collection:\n"
     ]
    },
    {
     "name": "stderr",
     "output_type": "stream",
     "text": [
      "gc: collecting generation 2...\n",
      "gc: objects in each generation: 286 42 123073\n",
      "gc: objects in permanent generation: 0\n",
      "gc: done, 0 unreachable, 0 uncollectable, 0.1199s elapsed\n"
     ]
    },
    {
     "name": "stdout",
     "output_type": "stream",
     "text": [
      "RAM used on entry: 667,119,616 bytes\n",
      "RAM used on exit: 1,826,156,544 bytes\n",
      "RAM used after garbage collect: 1,894,842,368 bytes\n",
      "RAM increased by 1,159,036,928 bytes and garbage collect recovered 68,685,824 bytes\n"
     ]
    }
   ],
   "source": [
    "with MemoryUsage():\n",
    "    data = pd.concat(pd.read_parquet(f'yellow_tripdata_2022-{month+1:02d}.parquet') for month in range(12))\n",
    "    data.info(memory_usage='deep')"
   ],
   "metadata": {
    "collapsed": false,
    "ExecuteTime": {
     "start_time": "2023-04-14T13:52:49.223467Z",
     "end_time": "2023-04-14T13:53:31.760723Z"
    }
   }
  },
  {
   "cell_type": "markdown",
   "source": [
    "### Parquet Fields for Yellow Taxi trip data\n",
    "\n",
    "|  #  | Column                | Dtype\n",
    "| --- |-----------------------| -----\n",
    "|  0  | VendorID              | int64\n",
    "|  1  | tpep_pickup_datetime  | datetime64[ns]\n",
    "|  2  | tpep_dropoff_datetime | datetime64[ns]\n",
    "|  3  | passenger_count       | float64\n",
    "|  4  | trip_distance         | float64\n",
    "|  5  | RatecodeID            | float64\n",
    "|  6  | store_and_fwd_flag    | object\n",
    "|  7  | PULocationID          | int64\n",
    "|  8  | DOLocationID          | int64\n",
    "|  9  | payment_type          | int64\n",
    "|  10 | fare_amount           | float64\n",
    "|  11 | extra                 | float64\n",
    "|  12 | mta_tax               | float64\n",
    "|  13 | tip_amount            | float64\n",
    "|  14 | tolls_amount          | float64\n",
    "|  15 | improvement_surcharge | float64\n",
    "|  16 | total_amount          | float64\n",
    "|  17 | congestion_surcharge  | float64\n",
    "|  18 | airport_fee           | float64"
   ],
   "metadata": {
    "collapsed": false
   }
  },
  {
   "cell_type": "markdown",
   "source": [
    "Each of the 18 fields requires 8 bytes, which for ~40 million records yields the ~6 GB of memory usage reported in the previous block. Instead we will load only a subset of columns while converting to integer values.\n",
    "\n",
    "A 64-bit integer stores far larger values than the population of earth, or the total global currency. The Parquet file format masks this inefficiency on disk by ultimately compressing the wasted zeroes, but when loaded into memory a far more precious resource is wasted.\n",
    "\n",
    "Ideally Pandas would provide a method to automatically and efficiently compact columns based on float-to-int (passenger count) and affine (monetary) conversion after analyzing the minimum, maximum, and range of values. Additional types including variable-length integers, and compressed floating point types would further reduce memory usage.\n",
    "\n",
    "![data types](data_types.png)"
   ],
   "metadata": {
    "collapsed": false
   }
  },
  {
   "cell_type": "code",
   "execution_count": 6,
   "outputs": [],
   "source": [
    "columns = {\n",
    "    'VendorID': 'uint8',\n",
    "    'passenger_count': 'uint8',\n",
    "    'RatecodeID': 'uint8',\n",
    "    'trip_distance': 'uint16',\n",
    "    'PULocationID': 'uint16',\n",
    "    'DOLocationID': 'uint16',\n",
    "    'payment_type': 'uint8',\n",
    "    'total_amount': 'int16'}\n",
    "\n",
    "columns_dollars_to_cents = ['trip_distance', 'total_amount']\n",
    "\n",
    "# affine value with multiplier\n",
    "def round_product(multiplier = None):\n",
    "    return lambda x: round(x * multiplier)\n",
    "\n",
    "def load_data(year):\n",
    "    data = []\n",
    "\n",
    "    for month in range(12):\n",
    "        df = pd.read_parquet(f'yellow_tripdata_{year}-{month+1:02d}.parquet', columns=columns.keys())\n",
    "\n",
    "        # not-a-number floating point values have no integer representation and cannot be converted\n",
    "        df.dropna(inplace=True)\n",
    "\n",
    "        # this column-by-column conversion looks to be efficient as a DataFrame is a collection of Series\n",
    "        for column in columns_dollars_to_cents:\n",
    "            df[column] = df[column].apply(round_product(100))\n",
    "\n",
    "        # after converting the floating point values the type conversions can be processed\n",
    "        data.append(df.astype(columns, copy=False))\n",
    "\n",
    "    return pd.concat((data), ignore_index=True)"
   ],
   "metadata": {
    "collapsed": false,
    "ExecuteTime": {
     "start_time": "2023-04-14T14:32:27.497685Z",
     "end_time": "2023-04-14T14:32:27.507193Z"
    }
   }
  },
  {
   "cell_type": "code",
   "execution_count": 7,
   "outputs": [
    {
     "name": "stdout",
     "output_type": "stream",
     "text": [
      "Entry garbage collection:\n"
     ]
    },
    {
     "name": "stderr",
     "output_type": "stream",
     "text": [
      "gc: collecting generation 2...\n",
      "gc: objects in each generation: 278 357 147548\n",
      "gc: objects in permanent generation: 0\n",
      "gc: done, 476 unreachable, 0 uncollectable, 0.0516s elapsed\n"
     ]
    },
    {
     "name": "stdout",
     "output_type": "stream",
     "text": [
      "Exit garbage collection:\n"
     ]
    },
    {
     "name": "stderr",
     "output_type": "stream",
     "text": [
      "gc: collecting generation 2...\n",
      "gc: objects in each generation: 44 1825 146416\n",
      "gc: objects in permanent generation: 0\n",
      "gc: done, 0 unreachable, 0 uncollectable, 0.0587s elapsed\n"
     ]
    },
    {
     "name": "stdout",
     "output_type": "stream",
     "text": [
      "RAM used on entry: 126,476,288 bytes\n",
      "RAM used on exit: 1,057,419,264 bytes\n",
      "RAM used after garbage collect: 1,057,546,240 bytes\n",
      "RAM increased by 930,942,976 bytes and garbage collect recovered 126,976 bytes\n",
      "<class 'pandas.core.frame.DataFrame'>\n",
      "RangeIndex: 38287795 entries, 0 to 38287794\n",
      "Data columns (total 8 columns):\n",
      " #   Column           Dtype \n",
      "---  ------           ----- \n",
      " 0   VendorID         uint8 \n",
      " 1   passenger_count  uint8 \n",
      " 2   RatecodeID       uint8 \n",
      " 3   trip_distance    uint16\n",
      " 4   PULocationID     uint16\n",
      " 5   DOLocationID     uint16\n",
      " 6   payment_type     uint8 \n",
      " 7   total_amount     int16 \n",
      "dtypes: int16(1), uint16(3), uint8(4)\n",
      "memory usage: 438.2 MB\n"
     ]
    },
    {
     "data": {
      "text/plain": "   VendorID  passenger_count  RatecodeID  trip_distance  PULocationID   \n0         1                2           1            380           142  \\\n1         1                1           1            210           236   \n2         2                1           1             97           166   \n3         2                1           1            109           114   \n4         2                1           1            430            68   \n\n   DOLocationID  payment_type  total_amount  \n0           236             1          2195  \n1            42             1          1330  \n2           166             1          1056  \n3            68             2          1180  \n4           163             1          3030  ",
      "text/html": "<div>\n<style scoped>\n    .dataframe tbody tr th:only-of-type {\n        vertical-align: middle;\n    }\n\n    .dataframe tbody tr th {\n        vertical-align: top;\n    }\n\n    .dataframe thead th {\n        text-align: right;\n    }\n</style>\n<table border=\"1\" class=\"dataframe\">\n  <thead>\n    <tr style=\"text-align: right;\">\n      <th></th>\n      <th>VendorID</th>\n      <th>passenger_count</th>\n      <th>RatecodeID</th>\n      <th>trip_distance</th>\n      <th>PULocationID</th>\n      <th>DOLocationID</th>\n      <th>payment_type</th>\n      <th>total_amount</th>\n    </tr>\n  </thead>\n  <tbody>\n    <tr>\n      <th>0</th>\n      <td>1</td>\n      <td>2</td>\n      <td>1</td>\n      <td>380</td>\n      <td>142</td>\n      <td>236</td>\n      <td>1</td>\n      <td>2195</td>\n    </tr>\n    <tr>\n      <th>1</th>\n      <td>1</td>\n      <td>1</td>\n      <td>1</td>\n      <td>210</td>\n      <td>236</td>\n      <td>42</td>\n      <td>1</td>\n      <td>1330</td>\n    </tr>\n    <tr>\n      <th>2</th>\n      <td>2</td>\n      <td>1</td>\n      <td>1</td>\n      <td>97</td>\n      <td>166</td>\n      <td>166</td>\n      <td>1</td>\n      <td>1056</td>\n    </tr>\n    <tr>\n      <th>3</th>\n      <td>2</td>\n      <td>1</td>\n      <td>1</td>\n      <td>109</td>\n      <td>114</td>\n      <td>68</td>\n      <td>2</td>\n      <td>1180</td>\n    </tr>\n    <tr>\n      <th>4</th>\n      <td>2</td>\n      <td>1</td>\n      <td>1</td>\n      <td>430</td>\n      <td>68</td>\n      <td>163</td>\n      <td>1</td>\n      <td>3030</td>\n    </tr>\n  </tbody>\n</table>\n</div>"
     },
     "execution_count": 7,
     "metadata": {},
     "output_type": "execute_result"
    }
   ],
   "source": [
    "with MemoryUsage():\n",
    "    taxi_data = load_data('2022')\n",
    "\n",
    "taxi_data.info(memory_usage='deep')\n",
    "taxi_data.head()"
   ],
   "metadata": {
    "collapsed": false,
    "ExecuteTime": {
     "start_time": "2023-04-14T14:32:30.269262Z",
     "end_time": "2023-04-14T14:33:22.481206Z"
    }
   }
  },
  {
   "cell_type": "code",
   "execution_count": 12,
   "outputs": [
    {
     "name": "stdout",
     "output_type": "stream",
     "text": [
      "<class 'pandas.core.frame.DataFrame'>\n",
      "RangeIndex: 265 entries, 0 to 264\n",
      "Data columns (total 4 columns):\n",
      " #   Column        Non-Null Count  Dtype \n",
      "---  ------        --------------  ----- \n",
      " 0   LocationID    265 non-null    int64 \n",
      " 1   Borough       265 non-null    object\n",
      " 2   Zone          264 non-null    object\n",
      " 3   service_zone  263 non-null    object\n",
      "dtypes: int64(1), object(3)\n",
      "memory usage: 54.8 KB\n"
     ]
    },
    {
     "data": {
      "text/plain": "   LocationID        Borough                     Zone service_zone\n0           1            EWR           Newark Airport          EWR\n1           2         Queens              Jamaica Bay    Boro Zone\n2           3          Bronx  Allerton/Pelham Gardens    Boro Zone\n3           4      Manhattan            Alphabet City  Yellow Zone\n4           5  Staten Island            Arden Heights    Boro Zone",
      "text/html": "<div>\n<style scoped>\n    .dataframe tbody tr th:only-of-type {\n        vertical-align: middle;\n    }\n\n    .dataframe tbody tr th {\n        vertical-align: top;\n    }\n\n    .dataframe thead th {\n        text-align: right;\n    }\n</style>\n<table border=\"1\" class=\"dataframe\">\n  <thead>\n    <tr style=\"text-align: right;\">\n      <th></th>\n      <th>LocationID</th>\n      <th>Borough</th>\n      <th>Zone</th>\n      <th>service_zone</th>\n    </tr>\n  </thead>\n  <tbody>\n    <tr>\n      <th>0</th>\n      <td>1</td>\n      <td>EWR</td>\n      <td>Newark Airport</td>\n      <td>EWR</td>\n    </tr>\n    <tr>\n      <th>1</th>\n      <td>2</td>\n      <td>Queens</td>\n      <td>Jamaica Bay</td>\n      <td>Boro Zone</td>\n    </tr>\n    <tr>\n      <th>2</th>\n      <td>3</td>\n      <td>Bronx</td>\n      <td>Allerton/Pelham Gardens</td>\n      <td>Boro Zone</td>\n    </tr>\n    <tr>\n      <th>3</th>\n      <td>4</td>\n      <td>Manhattan</td>\n      <td>Alphabet City</td>\n      <td>Yellow Zone</td>\n    </tr>\n    <tr>\n      <th>4</th>\n      <td>5</td>\n      <td>Staten Island</td>\n      <td>Arden Heights</td>\n      <td>Boro Zone</td>\n    </tr>\n  </tbody>\n</table>\n</div>"
     },
     "execution_count": 12,
     "metadata": {},
     "output_type": "execute_result"
    }
   ],
   "source": [
    "taxi_zone = pd.read_csv('taxi+_zone_lookup.csv')\n",
    "taxi_zone.info(memory_usage='deep')\n",
    "taxi_zone.head()"
   ],
   "metadata": {
    "collapsed": false,
    "ExecuteTime": {
     "start_time": "2023-04-14T13:57:02.546340Z",
     "end_time": "2023-04-14T13:57:02.581616Z"
    }
   }
  },
  {
   "cell_type": "markdown",
   "source": [
    "### Histogram of passenger counts"
   ],
   "metadata": {
    "collapsed": false
   }
  },
  {
   "cell_type": "code",
   "execution_count": 11,
   "outputs": [
    {
     "name": "stdout",
     "output_type": "stream",
     "text": [
      "average number of passengers: 1.4\n",
      "average total fare: $21.35\n"
     ]
    },
    {
     "data": {
      "text/plain": "<Figure size 640x480 with 1 Axes>",
      "image/png": "[encoded data removed]"
     },
     "metadata": {},
     "output_type": "display_data"
    }
   ],
   "source": [
    "taxi_data.hist(column='passenger_count', bins=range(taxi_data['passenger_count'].max()))\n",
    "\n",
    "average_passenger_count = round(taxi_data['passenger_count'].mean(), 2)\n",
    "print(f'average number of passengers: {average_passenger_count}')\n",
    "\n",
    "average_total_amount = round(taxi_data['total_amount'].mean()/100, 2)\n",
    "print(f'average total fare: ${average_total_amount}')"
   ],
   "metadata": {
    "collapsed": false,
    "ExecuteTime": {
     "start_time": "2023-04-14T13:56:57.162006Z",
     "end_time": "2023-04-14T13:56:59.835930Z"
    }
   }
  },
  {
   "cell_type": "code",
   "execution_count": 14,
   "outputs": [],
   "source": [
    "import networkx as nx"
   ],
   "metadata": {
    "collapsed": false,
    "ExecuteTime": {
     "start_time": "2023-04-14T13:58:06.631656Z",
     "end_time": "2023-04-14T13:58:06.790557Z"
    }
   }
  },
  {
   "cell_type": "code",
   "execution_count": 15,
   "outputs": [],
   "source": [
    "grouped_data = taxi_data.groupby(['PULocationID', 'DOLocationID'], as_index=False).size()\n",
    "taxi_graph = nx.from_pandas_edgelist(grouped_data, 'PULocationID', 'DOLocationID', edge_attr='size', create_using=nx.DiGraph)\n",
    "\n",
    "# some algorithms prohibit self-loops\n",
    "taxi_graph.remove_edges_from(nx.selfloop_edges(taxi_graph))"
   ],
   "metadata": {
    "collapsed": false,
    "ExecuteTime": {
     "start_time": "2023-04-14T14:00:35.640451Z",
     "end_time": "2023-04-14T14:00:35.824983Z"
    }
   }
  },
  {
   "cell_type": "markdown",
   "source": [
    "### PageRank"
   ],
   "metadata": {
    "collapsed": false
   }
  },
  {
   "cell_type": "code",
   "execution_count": 16,
   "outputs": [
    {
     "data": {
      "text/plain": "1      0.004193\n6      0.002170\n10     0.004419\n13     0.003910\n14     0.005146\n         ...   \n206    0.002310\n105    0.000827\n59     0.001969\n110    0.000591\n199    0.000572\nLength: 263, dtype: float64"
     },
     "execution_count": 16,
     "metadata": {},
     "output_type": "execute_result"
    }
   ],
   "source": [
    "pd.Series(nx.pagerank(taxi_graph, weight='size'))"
   ],
   "metadata": {
    "collapsed": false,
    "ExecuteTime": {
     "start_time": "2023-04-14T14:00:37.605725Z",
     "end_time": "2023-04-14T14:00:46.361215Z"
    }
   }
  },
  {
   "cell_type": "markdown",
   "source": [
    "### Graph diameter"
   ],
   "metadata": {
    "collapsed": false
   }
  },
  {
   "cell_type": "code",
   "execution_count": 17,
   "outputs": [
    {
     "data": {
      "text/plain": "2"
     },
     "execution_count": 17,
     "metadata": {},
     "output_type": "execute_result"
    }
   ],
   "source": [
    "nx.diameter(taxi_graph.to_undirected())"
   ],
   "metadata": {
    "collapsed": false
   }
  },
  {
   "cell_type": "markdown",
   "source": [
    "### Clustering Coefficient"
   ],
   "metadata": {
    "collapsed": false
   }
  },
  {
   "cell_type": "code",
   "execution_count": 20,
   "outputs": [
    {
     "data": {
      "text/plain": "199    1.000000\n105    0.992236\n111    0.974896\n8      0.964460\n34     0.950161\n         ...   \n161    0.672402\n140    0.661863\n132    0.655192\n264    0.648717\n110    0.000000\nLength: 263, dtype: float64"
     },
     "execution_count": 20,
     "metadata": {},
     "output_type": "execute_result"
    }
   ],
   "source": [
    "pd.Series(nx.clustering(taxi_graph)).sort_values(ascending=False)"
   ],
   "metadata": {
    "collapsed": false,
    "ExecuteTime": {
     "start_time": "2023-04-14T14:02:17.129555Z",
     "end_time": "2023-04-14T14:02:23.377186Z"
    }
   }
  },
  {
   "cell_type": "markdown",
   "source": [
    "### Betweenness Centrality"
   ],
   "metadata": {
    "collapsed": false
   }
  },
  {
   "cell_type": "code",
   "execution_count": 21,
   "outputs": [
    {
     "data": {
      "text/plain": "132    9.992073e-03\n264    7.560346e-03\n74     5.988794e-03\n140    5.843098e-03\n75     5.478972e-03\n           ...     \n99     6.647822e-06\n111    2.570176e-06\n105    9.880900e-08\n110    0.000000e+00\n199    0.000000e+00\nLength: 263, dtype: float64"
     },
     "execution_count": 21,
     "metadata": {},
     "output_type": "execute_result"
    }
   ],
   "source": [
    "pd.Series(nx.betweenness_centrality(taxi_graph)).sort_values(ascending=False)"
   ],
   "metadata": {
    "collapsed": false,
    "ExecuteTime": {
     "start_time": "2023-04-14T14:02:48.886558Z",
     "end_time": "2023-04-14T14:02:50.534698Z"
    }
   }
  },
  {
   "cell_type": "markdown",
   "source": [
    "### Imbalance of pickup and dropoffs"
   ],
   "metadata": {
    "collapsed": false
   }
  },
  {
   "cell_type": "code",
   "execution_count": 11,
   "outputs": [
    {
     "data": {
      "text/plain": "           PU        DO      total  imbalance  imbalance_ratio\n27       22.0     615.0      637.0      593.0         0.930926\n257     618.0   15960.0    16578.0    15342.0         0.925443\n198     955.0   20687.0    21642.0    19732.0         0.911746\n58       52.0    1067.0     1119.0     1015.0         0.907060\n245      24.0     438.0      462.0      414.0         0.896104\n..        ...       ...        ...        ...              ...\n140  773846.0  784054.0  1557900.0    10208.0         0.006552\n229  810401.0  818566.0  1628967.0     8165.0         0.005012\n207    3550.0    3521.0     7071.0      -29.0         0.004101\n110       NaN       3.0        NaN        NaN              NaN\n199      12.0       NaN        NaN        NaN              NaN\n\n[263 rows x 5 columns]",
      "text/html": "<div>\n<style scoped>\n    .dataframe tbody tr th:only-of-type {\n        vertical-align: middle;\n    }\n\n    .dataframe tbody tr th {\n        vertical-align: top;\n    }\n\n    .dataframe thead th {\n        text-align: right;\n    }\n</style>\n<table border=\"1\" class=\"dataframe\">\n  <thead>\n    <tr style=\"text-align: right;\">\n      <th></th>\n      <th>PU</th>\n      <th>DO</th>\n      <th>total</th>\n      <th>imbalance</th>\n      <th>imbalance_ratio</th>\n    </tr>\n  </thead>\n  <tbody>\n    <tr>\n      <th>27</th>\n      <td>22.0</td>\n      <td>615.0</td>\n      <td>637.0</td>\n      <td>593.0</td>\n      <td>0.930926</td>\n    </tr>\n    <tr>\n      <th>257</th>\n      <td>618.0</td>\n      <td>15960.0</td>\n      <td>16578.0</td>\n      <td>15342.0</td>\n      <td>0.925443</td>\n    </tr>\n    <tr>\n      <th>198</th>\n      <td>955.0</td>\n      <td>20687.0</td>\n      <td>21642.0</td>\n      <td>19732.0</td>\n      <td>0.911746</td>\n    </tr>\n    <tr>\n      <th>58</th>\n      <td>52.0</td>\n      <td>1067.0</td>\n      <td>1119.0</td>\n      <td>1015.0</td>\n      <td>0.907060</td>\n    </tr>\n    <tr>\n      <th>245</th>\n      <td>24.0</td>\n      <td>438.0</td>\n      <td>462.0</td>\n      <td>414.0</td>\n      <td>0.896104</td>\n    </tr>\n    <tr>\n      <th>...</th>\n      <td>...</td>\n      <td>...</td>\n      <td>...</td>\n      <td>...</td>\n      <td>...</td>\n    </tr>\n    <tr>\n      <th>140</th>\n      <td>773846.0</td>\n      <td>784054.0</td>\n      <td>1557900.0</td>\n      <td>10208.0</td>\n      <td>0.006552</td>\n    </tr>\n    <tr>\n      <th>229</th>\n      <td>810401.0</td>\n      <td>818566.0</td>\n      <td>1628967.0</td>\n      <td>8165.0</td>\n      <td>0.005012</td>\n    </tr>\n    <tr>\n      <th>207</th>\n      <td>3550.0</td>\n      <td>3521.0</td>\n      <td>7071.0</td>\n      <td>-29.0</td>\n      <td>0.004101</td>\n    </tr>\n    <tr>\n      <th>110</th>\n      <td>NaN</td>\n      <td>3.0</td>\n      <td>NaN</td>\n      <td>NaN</td>\n      <td>NaN</td>\n    </tr>\n    <tr>\n      <th>199</th>\n      <td>12.0</td>\n      <td>NaN</td>\n      <td>NaN</td>\n      <td>NaN</td>\n      <td>NaN</td>\n    </tr>\n  </tbody>\n</table>\n<p>263 rows × 5 columns</p>\n</div>"
     },
     "execution_count": 11,
     "metadata": {},
     "output_type": "execute_result"
    }
   ],
   "source": [
    "pu = taxi_data['PULocationID'].value_counts()\n",
    "do = taxi_data['DOLocationID'].value_counts()\n",
    "\n",
    "total = (pu + do)\n",
    "imbalance = (do - pu)\n",
    "imbalance_ratio = (imbalance / total).abs()\n",
    "\n",
    "trip_counts = pd.DataFrame({'PU': pu, 'DO': do, 'total': total, 'imbalance': imbalance, 'imbalance_ratio': imbalance_ratio})\n",
    "trip_counts.sort_values(by='imbalance_ratio', ascending=False)"
   ],
   "metadata": {
    "collapsed": false,
    "ExecuteTime": {
     "start_time": "2023-04-14T14:37:08.229043Z",
     "end_time": "2023-04-14T14:37:08.242708Z"
    }
   }
  }
 ],
 "metadata": {
  "kernelspec": {
   "display_name": "Python 3",
   "language": "python",
   "name": "python3"
  },
  "language_info": {
   "codemirror_mode": {
    "name": "ipython",
    "version": 2
   },
   "file_extension": ".py",
   "mimetype": "text/x-python",
   "name": "python",
   "nbconvert_exporter": "python",
   "pygments_lexer": "ipython2",
   "version": "2.7.6"
  }
 },
 "nbformat": 4,
 "nbformat_minor": 0
}
